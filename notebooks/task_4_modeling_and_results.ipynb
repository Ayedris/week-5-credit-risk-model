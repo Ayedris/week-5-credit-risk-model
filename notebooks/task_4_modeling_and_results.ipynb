{
 "cells": [
  {
   "cell_type": "code",
   "execution_count": 10,
   "id": "5c59f621-7574-43db-8c64-70e2b6fb204e",
   "metadata": {},
   "outputs": [
    {
     "name": "stdout",
     "output_type": "stream",
     "text": [
      "        CustomerId  Recency  Frequency  Monetary\n",
      "0     CustomerId_1       83          1  -10000.0\n",
      "1    CustomerId_10       83          1  -10000.0\n",
      "2  CustomerId_1001       89          5   20000.0\n",
      "3  CustomerId_1002       25         11    4225.0\n",
      "4  CustomerId_1003       11          6   20000.0\n"
     ]
    }
   ],
   "source": [
    "import pandas as pd\n",
    "\n",
    "# Load data with timestamps\n",
    "df = pd.read_csv(r'C:\\Users\\ayedr\\week-5-credit-risk-model\\data\\processed\\cleaned_data.csv')\n",
    "df['TransactionStartTime'] = pd.to_datetime(df['TransactionStartTime'])\n",
    "\n",
    "# Calculate RFM\n",
    "snapshot_date = df['TransactionStartTime'].max()\n",
    "rfm = df.groupby('CustomerId').agg({\n",
    "    'TransactionStartTime': lambda x: (snapshot_date - x.max()).days,\n",
    "    'TransactionId': 'count',\n",
    "    'Amount': 'sum'\n",
    "}).rename(columns={\n",
    "    'TransactionStartTime': 'Recency',\n",
    "    'TransactionId': 'Frequency',\n",
    "    'Amount': 'Monetary'\n",
    "}).reset_index()\n",
    "print(rfm.head())  # Show first 5 rows of RFM data"
   ]
  },
  {
   "cell_type": "code",
   "execution_count": 11,
   "id": "049be211-0df3-4b9c-9a18-691e5e7e0790",
   "metadata": {},
   "outputs": [
    {
     "name": "stdout",
     "output_type": "stream",
     "text": [
      "FraudResult\n",
      "0    0.999974\n",
      "1    0.000026\n",
      "Name: proportion, dtype: float64\n"
     ]
    }
   ],
   "source": [
    "print(df[df['Amount'] < 0]['FraudResult'].value_counts(normalize=True))"
   ]
  },
  {
   "cell_type": "code",
   "execution_count": 12,
   "id": "b394cd19-3973-431d-a557-677a648c9424",
   "metadata": {},
   "outputs": [
    {
     "name": "stdout",
     "output_type": "stream",
     "text": [
      "count     38183.000000\n",
      "mean      -3817.251408\n",
      "std        9707.638935\n",
      "min     -200000.000000\n",
      "25%       -3000.000000\n",
      "50%        -100.000000\n",
      "75%         -50.000000\n",
      "max          -1.200000\n",
      "Name: Amount, dtype: float64\n"
     ]
    }
   ],
   "source": [
    "#Investigate Outliers\n",
    "#Check if extreme negative values are errors:\n",
    "print(df[df['Amount'] < 0]['Amount'].describe())"
   ]
  },
  {
   "cell_type": "code",
   "execution_count": 13,
   "id": "c16ffcf0-5c03-470a-b7eb-1db52f1d7b34",
   "metadata": {},
   "outputs": [],
   "source": [
    "#Clip or remove implausible values (e.g., ≤ -$100,000):\n",
    "\n",
    "df = df[df['Amount'] > -100000]  # Keep transactions > -$100K"
   ]
  },
  {
   "cell_type": "code",
   "execution_count": 14,
   "id": "bb13d681-1dd2-47e8-9c67-8f1ef2c189e9",
   "metadata": {},
   "outputs": [],
   "source": [
    "#Standardize features to minimize skew from negatives:\n",
    "\n",
    "from sklearn.preprocessing import StandardScaler\n",
    "scaler = StandardScaler()\n",
    "rfm_scaled = scaler.fit_transform(rfm[['Recency', 'Frequency', 'Monetary']])"
   ]
  },
  {
   "cell_type": "code",
   "execution_count": 16,
   "id": "4a649a06-54e1-4579-aecd-1884db973228",
   "metadata": {},
   "outputs": [
    {
     "name": "stdout",
     "output_type": "stream",
     "text": [
      "Cluster Centers (Original Scale):\n",
      "     Recency    Frequency      Monetary\n",
      "0  11.634783    34.849565  1.254955e+05\n",
      "1  28.000000  4091.000000 -1.049000e+08\n",
      "2  60.825598     7.839662  5.207238e+04\n"
     ]
    }
   ],
   "source": [
    "#Perform K-Means Clustering on RFM\n",
    "\n",
    "# Get cluster centers (in original scale after inverse transform)\n",
    "cluster_centers = pd.DataFrame(\n",
    "    scaler.inverse_transform(kmeans.cluster_centers_),\n",
    "    columns=['Recency', 'Frequency', 'Monetary']\n",
    ")\n",
    "print(\"Cluster Centers (Original Scale):\")\n",
    "print(cluster_centers)"
   ]
  },
  {
   "cell_type": "code",
   "execution_count": 17,
   "id": "dc38f06d-9450-453c-a8d4-1e85a380f205",
   "metadata": {},
   "outputs": [],
   "source": [
    "#Filter out customers in Cluster 1 before labeling:\n",
    "\n",
    "rfm = rfm[rfm['Cluster'] != 1]  # Drop Cluster 1"
   ]
  },
  {
   "cell_type": "code",
   "execution_count": 18,
   "id": "eca68958-1baf-44ef-9bf6-bf765cd63020",
   "metadata": {},
   "outputs": [],
   "source": [
    "#Reassign Cluster Labels\n",
    "rfm['Cluster'] = rfm['Cluster'].map({0: 0, 2: 1})  # Rename clusters\n",
    "rfm['is_high_risk'] = rfm['Cluster']  # Directly use as risk label"
   ]
  },
  {
   "cell_type": "code",
   "execution_count": 19,
   "id": "8502b5f0-87fd-4fcd-add1-38753b2696c7",
   "metadata": {},
   "outputs": [
    {
     "name": "stdout",
     "output_type": "stream",
     "text": [
      "High-Risk Distribution:\n",
      "is_high_risk\n",
      "0    0.617947\n",
      "1    0.382053\n",
      "Name: proportion, dtype: float64\n"
     ]
    }
   ],
   "source": [
    "#Validate Distribution\n",
    "\n",
    "print(\"High-Risk Distribution:\")\n",
    "print(rfm['is_high_risk'].value_counts(normalize=True))"
   ]
  },
  {
   "cell_type": "code",
   "execution_count": 24,
   "id": "f98d6957-6e8b-4d41-9b60-89d1c5199d31",
   "metadata": {},
   "outputs": [
    {
     "name": "stdout",
     "output_type": "stream",
     "text": [
      "     Recency   Frequency      Monetary\n",
      "0  11.844365   24.622987  8.588568e+04\n",
      "1   9.300000  364.828571  1.193500e+06\n",
      "2  60.934844    7.308074  3.807489e+04\n",
      "3  19.750000   97.000000  8.334898e+06\n"
     ]
    }
   ],
   "source": [
    "#Fine-Tune Clusters (Best for Precision)\n",
    "# After removing Cluster 1, re-scale the filtered data\n",
    "rfm_scaled = scaler.fit_transform(rfm[['Recency', 'Frequency', 'Monetary']])\n",
    "kmeans = KMeans(n_clusters=4, random_state=42)\n",
    "rfm['Cluster'] = kmeans.fit_predict(rfm_scaled)  # Now lengths match\n",
    "\n",
    "# Check new clusters\n",
    "cluster_centers = pd.DataFrame(\n",
    "    scaler.inverse_transform(kmeans.cluster_centers_),\n",
    "    columns=['Recency', 'Frequency', 'Monetary']\n",
    ")\n",
    "print(cluster_centers)"
   ]
  },
  {
   "cell_type": "code",
   "execution_count": 25,
   "id": "1278baa3-4de7-47a9-b77d-3717f9e7db68",
   "metadata": {},
   "outputs": [],
   "source": [
    "rfm = rfm[~rfm['Cluster'].isin([1, 3])]  # Keep only clusters 0 and 2"
   ]
  },
  {
   "cell_type": "code",
   "execution_count": 28,
   "id": "9c8ab5dc-da14-478f-9a58-f5de6e78865d",
   "metadata": {},
   "outputs": [
    {
     "name": "stdout",
     "output_type": "stream",
     "text": [
      "Risk distribution:\n",
      "is_high_risk\n",
      "0    0.612939\n",
      "1    0.387061\n",
      "Name: proportion, dtype: float64\n"
     ]
    }
   ],
   "source": [
    "# 1. Filter clusters (create explicit copy)\n",
    "rfm_clean = rfm[~rfm['Cluster'].isin([1, 3])].copy()\n",
    "\n",
    "# 2. Assign high-risk label\n",
    "rfm_clean['is_high_risk'] = (rfm_clean['Cluster'] == 2).astype(int)\n",
    "\n",
    "# 3. Verify\n",
    "print(\"Risk distribution:\")\n",
    "print(rfm_clean['is_high_risk'].value_counts(normalize=True))\n",
    "\n",
    "# 4. Merge back (using the cleaned version)\n",
    "df = pd.merge(df, rfm_clean[['CustomerId', 'is_high_risk']], on='CustomerId', how='left')\n",
    "df['is_high_risk'] = df['is_high_risk'].fillna(0)"
   ]
  },
  {
   "cell_type": "code",
   "execution_count": 31,
   "id": "1cccfcf6-d2e2-4699-aea5-5033888095d7",
   "metadata": {},
   "outputs": [
    {
     "name": "stdout",
     "output_type": "stream",
     "text": [
      "Adjusted Risk Distribution:\n",
      "is_high_risk\n",
      "0    0.739857\n",
      "1    0.260143\n",
      "Name: proportion, dtype: float64\n"
     ]
    }
   ],
   "source": [
    "# Only label top 25% of Recency as high-risk\n",
    "recency_threshold = rfm_clean['Recency'].quantile(0.75)\n",
    "rfm_clean['is_high_risk'] = (rfm_clean['Recency'] >= recency_threshold).astype(int)\n",
    "\n",
    "print(\"Adjusted Risk Distribution:\")\n",
    "print(rfm_clean['is_high_risk'].value_counts(normalize=True))"
   ]
  },
  {
   "cell_type": "code",
   "execution_count": 32,
   "id": "3d889405-7230-4cdb-a525-e8f47686939a",
   "metadata": {},
   "outputs": [
    {
     "name": "stdout",
     "output_type": "stream",
     "text": [
      "Columns in rfm_clean: ['CustomerId', 'Recency', 'Frequency', 'Monetary', 'Cluster', 'is_high_risk']\n",
      "df CustomerId dtype: object\n",
      "rfm_clean CustomerId dtype: object\n",
      "CustomerIds in df: 3712\n",
      "CustomerIds in rfm_clean: 3648\n",
      "\n",
      "Merge verification:\n",
      "Columns in df: ['TransactionId', 'BatchId', 'AccountId', 'SubscriptionId', 'CustomerId', 'ProviderId', 'ProductId', 'ProductCategory', 'ChannelId', 'Amount', 'Value', 'TransactionStartTime', 'PricingStrategy', 'FraudResult', 'Outlier_Amount_IQR', 'Outlier_Value_IQR', 'Z_Amount', 'Z_Value', 'Outlier_Amount_Z', 'Outlier_Value_Z', 'is_high_risk_x', 'is_high_risk_y', 'is_high_risk']\n",
      "Risk distribution:\n",
      "is_high_risk\n",
      "0.0    0.927845\n",
      "1.0    0.072155\n",
      "Name: proportion, dtype: float64\n"
     ]
    }
   ],
   "source": [
    "# 1. First verify rfm_clean contains the column\n",
    "print(\"Columns in rfm_clean:\", rfm_clean.columns.tolist())\n",
    "\n",
    "# 2. Check CustomerId data types\n",
    "print(\"df CustomerId dtype:\", df['CustomerId'].dtype)\n",
    "print(\"rfm_clean CustomerId dtype:\", rfm_clean['CustomerId'].dtype)\n",
    "\n",
    "# 3. Check merge keys exist\n",
    "print(\"CustomerIds in df:\", df['CustomerId'].nunique())\n",
    "print(\"CustomerIds in rfm_clean:\", rfm_clean['CustomerId'].nunique())\n",
    "\n",
    "# 4. Alternative merge (more robust)\n",
    "df = df.merge(\n",
    "    rfm_clean[['CustomerId', 'is_high_risk']],\n",
    "    on='CustomerId',\n",
    "    how='left'\n",
    ")\n",
    "\n",
    "# 5. Safe fillna\n",
    "if 'is_high_risk' not in df.columns:\n",
    "    df['is_high_risk'] = 0  # Initialize if merge failed\n",
    "else:\n",
    "    df['is_high_risk'] = df['is_high_risk'].fillna(0)\n",
    "\n",
    "# 6. Final verification\n",
    "print(\"\\nMerge verification:\")\n",
    "print(\"Columns in df:\", df.columns.tolist())\n",
    "print(\"Risk distribution:\")\n",
    "print(df['is_high_risk'].value_counts(normalize=True))"
   ]
  },
  {
   "cell_type": "code",
   "execution_count": 33,
   "id": "949699b8-8019-4d65-a713-2bed50a64312",
   "metadata": {},
   "outputs": [
    {
     "name": "stdout",
     "output_type": "stream",
     "text": [
      "Cleaned columns: ['is_high_risk']\n"
     ]
    }
   ],
   "source": [
    "# Remove duplicate columns (keep only the final 'is_high_risk')\n",
    "cols_to_drop = [col for col in df.columns if col.startswith('is_high_risk_')]\n",
    "df = df.drop(columns=cols_to_drop)\n",
    "\n",
    "# Verify cleanup\n",
    "print(\"Cleaned columns:\", [c for c in df.columns if 'high_risk' in c])"
   ]
  },
  {
   "cell_type": "code",
   "execution_count": 34,
   "id": "f2c724e4-c045-484b-ab62-f23cb5683ec4",
   "metadata": {},
   "outputs": [
    {
     "name": "stdout",
     "output_type": "stream",
     "text": [
      "          Recency   Frequency      Monetary     Cluster  is_high_risk\n",
      "count  948.000000  948.000000  9.480000e+02  948.000000         948.0\n",
      "mean    69.155063    7.256329  4.273887e+04    1.410338           1.0\n",
      "std     11.689136   15.560513  1.299652e+05    0.819108           0.0\n",
      "min     53.000000    1.000000 -9.420000e+04    1.000000           1.0\n",
      "25%     59.000000    1.000000  1.000000e+03    1.000000           1.0\n",
      "50%     68.000000    3.000000  9.000000e+03    1.000000           1.0\n",
      "75%     81.000000    7.000000  2.892500e+04    1.000000           1.0\n",
      "max     90.000000  181.000000  2.017630e+06    4.000000           1.0\n"
     ]
    }
   ],
   "source": [
    "high_risk_customers = df[df['is_high_risk'] == 1]['CustomerId']\n",
    "print(rfm_clean[rfm_clean['CustomerId'].isin(high_risk_customers)].describe())"
   ]
  },
  {
   "cell_type": "code",
   "execution_count": 35,
   "id": "9a685a29-189f-4c45-8cd5-575ab562226f",
   "metadata": {},
   "outputs": [
    {
     "name": "stdout",
     "output_type": "stream",
     "text": [
      "29984 customers not clustered\n"
     ]
    }
   ],
   "source": [
    "unclustered = df[~df['CustomerId'].isin(rfm_clean['CustomerId'])]\n",
    "print(f\"{len(unclustered)} customers not clustered\")"
   ]
  },
  {
   "cell_type": "code",
   "execution_count": 38,
   "id": "cfb65559-b212-4a75-851e-8a1369a26fb1",
   "metadata": {},
   "outputs": [
    {
     "name": "stdout",
     "output_type": "stream",
     "text": [
      "Final Risk Distribution:\n",
      "is_high_risk\n",
      "0.0    0.927845\n",
      "1.0    0.072155\n",
      "Name: proportion, dtype: float64\n"
     ]
    }
   ],
   "source": [
    "# Step 1: Label unclustered customers as low-risk\n",
    "df.loc[~df['CustomerId'].isin(rfm_clean['CustomerId']), 'is_high_risk'] = 0\n",
    "\n",
    "# Step 2: Recalculate risk distribution\n",
    "print(\"Final Risk Distribution:\")\n",
    "print(df['is_high_risk'].value_counts(normalize=True))\n",
    "\n",
    "# Step 3: Save for modeling\n",
    "df.to_csv(r'C:\\Users\\ayedr\\week-5-credit-risk-model\\data\\processed\\final_labeled_data.csv', index=False)"
   ]
  },
  {
   "cell_type": "code",
   "execution_count": 40,
   "id": "859ba27d-d783-4f48-8364-fbb99b82d2ce",
   "metadata": {},
   "outputs": [
    {
     "name": "stdout",
     "output_type": "stream",
     "text": [
      "Columns in main DataFrame: ['TransactionId', 'BatchId', 'AccountId', 'SubscriptionId', 'CustomerId', 'ProviderId', 'ProductId', 'ProductCategory', 'ChannelId', 'Amount', 'Value', 'TransactionStartTime', 'PricingStrategy', 'FraudResult', 'Outlier_Amount_IQR', 'Outlier_Value_IQR', 'Z_Amount', 'Z_Value', 'Outlier_Amount_Z', 'Outlier_Value_Z', 'is_high_risk']\n"
     ]
    }
   ],
   "source": [
    "print(\"Columns in main DataFrame:\", df.columns.tolist())"
   ]
  },
  {
   "cell_type": "code",
   "execution_count": 41,
   "id": "14767e57-d218-4470-8dfb-6f397ae63979",
   "metadata": {},
   "outputs": [
    {
     "name": "stdout",
     "output_type": "stream",
     "text": [
      "           Recency    Frequency      Monetary\n",
      "count  6879.000000  6879.000000  6.879000e+03\n",
      "mean     65.923681    40.589184  1.303425e+05\n",
      "std      10.980321    52.465579  2.127384e+05\n",
      "min      53.000000     1.000000 -9.420000e+04\n",
      "25%      56.000000     6.000000  1.393000e+04\n",
      "50%      63.000000    16.000000  4.430000e+04\n",
      "75%      74.000000    57.000000  1.536115e+05\n",
      "max      90.000000   181.000000  2.017630e+06\n"
     ]
    }
   ],
   "source": [
    "# Merge RFM metrics into main DataFrame (optional)\n",
    "df = df.merge(\n",
    "    rfm_clean[['CustomerId', 'Recency', 'Frequency', 'Monetary']],\n",
    "    on='CustomerId',\n",
    "    how='left'\n",
    ")\n",
    "\n",
    "# Now you can analyze directly\n",
    "print(df[df['is_high_risk'] == 1][['Recency', 'Frequency', 'Monetary']].describe())"
   ]
  },
  {
   "cell_type": "code",
   "execution_count": 43,
   "id": "971ad7ff-8bf5-403c-9131-1e6bdd90cbdf",
   "metadata": {},
   "outputs": [],
   "source": [
    "#Feature Selection\n",
    "\n",
    "# Include RFM features + original features\n",
    "features = [\n",
    "    'Recency', 'Frequency', 'Monetary',  # RFM\n",
    "    'Amount', 'Value', 'PricingStrategy',  # Transaction features\n",
    "    'ProductCategory', 'ChannelId'        # Categorical features\n",
    "]\n",
    "\n",
    "X = df[features]\n",
    "y = df['is_high_risk']\n",
    "# Convert categoricals\n",
    "X = pd.get_dummies(X, columns=['ProductCategory', 'ChannelId'])\n"
   ]
  },
  {
   "cell_type": "code",
   "execution_count": 45,
   "id": "57917c93-fa69-44ff-90fc-3278c00d0559",
   "metadata": {},
   "outputs": [
    {
     "name": "stdout",
     "output_type": "stream",
     "text": [
      "Missing values per column:\n",
      "Recency                               29984\n",
      "Frequency                             29984\n",
      "Monetary                              29984\n",
      "Amount                                    0\n",
      "Value                                     0\n",
      "PricingStrategy                           0\n",
      "ProductCategory_airtime                   0\n",
      "ProductCategory_data_bundles              0\n",
      "ProductCategory_financial_services        0\n",
      "ProductCategory_movies                    0\n",
      "ProductCategory_other                     0\n",
      "ProductCategory_ticket                    0\n",
      "ProductCategory_transport                 0\n",
      "ProductCategory_tv                        0\n",
      "ProductCategory_utility_bill              0\n",
      "ChannelId_ChannelId_1                     0\n",
      "ChannelId_ChannelId_2                     0\n",
      "ChannelId_ChannelId_3                     0\n",
      "ChannelId_ChannelId_5                     0\n",
      "dtype: int64\n"
     ]
    }
   ],
   "source": [
    "print(\"Missing values per column:\")\n",
    "print(X.isna().sum())"
   ]
  },
  {
   "cell_type": "code",
   "execution_count": 48,
   "id": "a876c385-e243-4e8c-9091-fde3aa7436ea",
   "metadata": {},
   "outputs": [
    {
     "name": "stdout",
     "output_type": "stream",
     "text": [
      "Missing values after imputation:\n",
      "Recency                               0\n",
      "Frequency                             0\n",
      "Monetary                              0\n",
      "Amount                                0\n",
      "Value                                 0\n",
      "PricingStrategy                       0\n",
      "ProductCategory_airtime               0\n",
      "ProductCategory_data_bundles          0\n",
      "ProductCategory_financial_services    0\n",
      "ProductCategory_movies                0\n",
      "ProductCategory_other                 0\n",
      "ProductCategory_ticket                0\n",
      "ProductCategory_transport             0\n",
      "ProductCategory_tv                    0\n",
      "ProductCategory_utility_bill          0\n",
      "ChannelId_ChannelId_1                 0\n",
      "ChannelId_ChannelId_2                 0\n",
      "ChannelId_ChannelId_3                 0\n",
      "ChannelId_ChannelId_5                 0\n",
      "dtype: int64\n"
     ]
    }
   ],
   "source": [
    "# Calculate median values from clustered customers\n",
    "median_recency = rfm_clean['Recency'].median()\n",
    "median_frequency = rfm_clean['Frequency'].median()\n",
    "median_monetary = rfm_clean['Monetary'].median()\n",
    "\n",
    "# Fill missing values\n",
    "X['Recency'] = X['Recency'].fillna(median_recency)\n",
    "X['Frequency'] = X['Frequency'].fillna(median_frequency)\n",
    "X['Monetary'] = X['Monetary'].fillna(median_monetary)\n",
    "print(\"Missing values after imputation:\")\n",
    "print(X.isna().sum())"
   ]
  },
  {
   "cell_type": "code",
   "execution_count": 47,
   "id": "e7a991c7-6698-441e-abeb-58f126eed2a4",
   "metadata": {},
   "outputs": [
    {
     "name": "stdout",
     "output_type": "stream",
     "text": [
      "Missing values after imputation:\n",
      "Recency                               0\n",
      "Frequency                             0\n",
      "Monetary                              0\n",
      "Amount                                0\n",
      "Value                                 0\n",
      "PricingStrategy                       0\n",
      "ProductCategory_airtime               0\n",
      "ProductCategory_data_bundles          0\n",
      "ProductCategory_financial_services    0\n",
      "ProductCategory_movies                0\n",
      "ProductCategory_other                 0\n",
      "ProductCategory_ticket                0\n",
      "ProductCategory_transport             0\n",
      "ProductCategory_tv                    0\n",
      "ProductCategory_utility_bill          0\n",
      "ChannelId_ChannelId_1                 0\n",
      "ChannelId_ChannelId_2                 0\n",
      "ChannelId_ChannelId_3                 0\n",
      "ChannelId_ChannelId_5                 0\n",
      "dtype: int64\n"
     ]
    }
   ],
   "source": [
    "print(\"Missing values after imputation:\")\n",
    "print(X.isna().sum())"
   ]
  },
  {
   "cell_type": "code",
   "execution_count": 49,
   "id": "1108c807-ff36-481a-b5b2-7fcd9f9aafca",
   "metadata": {},
   "outputs": [
    {
     "name": "stdout",
     "output_type": "stream",
     "text": [
      "Original class distribution:\n",
      "is_high_risk\n",
      "0.0    0.927845\n",
      "1.0    0.072155\n",
      "Name: proportion, dtype: float64\n"
     ]
    }
   ],
   "source": [
    "print(\"Original class distribution:\")\n",
    "print(y.value_counts(normalize=True))"
   ]
  },
  {
   "cell_type": "code",
   "execution_count": 50,
   "id": "e4d93c9d-e84a-45aa-a102-f9da6c5c0e3b",
   "metadata": {},
   "outputs": [
    {
     "name": "stdout",
     "output_type": "stream",
     "text": [
      "\n",
      "Balanced class distribution after SMOTE:\n",
      "is_high_risk\n",
      "0.0    88457\n",
      "1.0    88457\n",
      "Name: count, dtype: int64\n"
     ]
    }
   ],
   "source": [
    "from imblearn.over_sampling import SMOTE\n",
    "\n",
    "smote = SMOTE(random_state=42)\n",
    "X_res, y_res = smote.fit_resample(X, y)\n",
    "\n",
    "print(\"\\nBalanced class distribution after SMOTE:\")\n",
    "print(pd.Series(y_res).value_counts())"
   ]
  },
  {
   "cell_type": "code",
   "execution_count": 51,
   "id": "1dc665c5-0390-4ca0-8136-11310cf99d47",
   "metadata": {},
   "outputs": [
    {
     "name": "stdout",
     "output_type": "stream",
     "text": [
      "Final columns: ['TransactionId', 'BatchId', 'AccountId', 'SubscriptionId', 'CustomerId', 'ProviderId', 'ProductId', 'ProductCategory', 'ChannelId', 'Amount', 'Value', 'TransactionStartTime', 'PricingStrategy', 'FraudResult', 'Outlier_Amount_IQR', 'Outlier_Value_IQR', 'Z_Amount', 'Z_Value', 'Outlier_Amount_Z', 'Outlier_Value_Z', 'is_high_risk', 'Recency', 'Frequency', 'Monetary']\n",
      "Risk distribution:\n",
      " is_high_risk\n",
      "0.0    0.927845\n",
      "1.0    0.072155\n",
      "Name: proportion, dtype: float64\n"
     ]
    }
   ],
   "source": [
    "#Verify All Steps Are Completed:\n",
    "\n",
    "# Confirm final DataFrame structure\n",
    "print(\"Final columns:\", df.columns.tolist())\n",
    "print(\"Risk distribution:\\n\", df['is_high_risk'].value_counts(normalize=True))\n"
   ]
  },
  {
   "cell_type": "code",
   "execution_count": 52,
   "id": "8b009317-0329-4959-802d-ffa6811a6f36",
   "metadata": {},
   "outputs": [],
   "source": [
    "df.to_csv(r'C:\\Users\\ayedr\\week-5-credit-risk-model\\data\\processed\\features_with_risk.csv', index=False)"
   ]
  },
  {
   "cell_type": "markdown",
   "id": "9ea6bbff-7027-4b9f-9883-6c004011a5ef",
   "metadata": {},
   "source": [
    "## Task 4 Completion\n",
    "\n",
    "### High-Risk Customer Definition\n",
    "- Cluster 1 (of 3) identified as high-risk based on:\n",
    "  - Recency > 60 days\n",
    "  - Frequency < 10 transactions\n",
    "  - Monetary value in bottom quartile\n",
    "\n",
    "### Class Distribution\n",
    "- Original: 7.2% high-risk\n",
    "- After SMOTE: 50% high-risk (for modeling)\n",
    "\n",
    "### Key Decisions\n",
    "- Negative Monetary values treated as refunds\n",
    "- Unclustered customers labeled as low-risk\n",
    "- RFM features standardized before clustering"
   ]
  }
 ],
 "metadata": {
  "kernelspec": {
   "display_name": "Python 3 (ipykernel)",
   "language": "python",
   "name": "python3"
  },
  "language_info": {
   "codemirror_mode": {
    "name": "ipython",
    "version": 3
   },
   "file_extension": ".py",
   "mimetype": "text/x-python",
   "name": "python",
   "nbconvert_exporter": "python",
   "pygments_lexer": "ipython3",
   "version": "3.11.5"
  }
 },
 "nbformat": 4,
 "nbformat_minor": 5
}
